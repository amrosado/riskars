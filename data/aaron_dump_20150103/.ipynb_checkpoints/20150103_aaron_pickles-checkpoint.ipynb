{
 "metadata": {
  "name": "",
  "signature": "sha256:b9146ace12702f68c3132eea48e34f48d850532689692497f528f0ff2f3282f3"
 },
 "nbformat": 3,
 "nbformat_minor": 0,
 "worksheets": [
  {
   "cells": [
    {
     "cell_type": "code",
     "collapsed": false,
     "input": [],
     "language": "python",
     "metadata": {},
     "outputs": []
    }
   ],
   "metadata": {}
  }
 ]
}